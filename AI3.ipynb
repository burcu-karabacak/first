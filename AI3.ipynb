{
  "nbformat": 4,
  "nbformat_minor": 0,
  "metadata": {
    "colab": {
      "name": "AI3.ipynb",
      "provenance": [],
      "collapsed_sections": [],
      "authorship_tag": "ABX9TyN0IQf7Vm2yiQg3t03nSZOu",
      "include_colab_link": true
    },
    "kernelspec": {
      "name": "python3",
      "display_name": "Python 3"
    },
    "language_info": {
      "name": "python"
    }
  },
  "cells": [
    {
      "cell_type": "markdown",
      "metadata": {
        "id": "view-in-github",
        "colab_type": "text"
      },
      "source": [
        "<a href=\"https://colab.research.google.com/github/burcu-karabacak/python-course/blob/main/AI3.ipynb\" target=\"_parent\"><img src=\"https://colab.research.google.com/assets/colab-badge.svg\" alt=\"Open In Colab\"/></a>"
      ]
    },
    {
      "cell_type": "markdown",
      "source": [
        "**functions\n",
        "**"
      ],
      "metadata": {
        "id": "dij8m-rORKM6"
      }
    },
    {
      "cell_type": "code",
      "execution_count": 2,
      "metadata": {
        "id": "tWMiih1WAfa7",
        "colab": {
          "base_uri": "https://localhost:8080/"
        },
        "outputId": "df2fc6be-d725-41d6-a171-1faf8b97519c"
      },
      "outputs": [
        {
          "output_type": "stream",
          "name": "stdout",
          "text": [
            "helloo burcu\n"
          ]
        }
      ],
      "source": [
        "def hello(name):\n",
        "  print(\"helloo\",name)\n",
        "\n",
        "hello(\"burcu\")\n"
      ]
    },
    {
      "cell_type": "code",
      "source": [
        "def sum(n1,n2):\n",
        "  print(n1 + n2)\n",
        "\n",
        "sum(3,5)\n",
        "\n",
        "result =sum(3,5)\n",
        "print(result)"
      ],
      "metadata": {
        "colab": {
          "base_uri": "https://localhost:8080/"
        },
        "id": "QPe-giVtaFW8",
        "outputId": "e7f8db7b-9a54-4d57-dd6e-4e4c365b40d3"
      },
      "execution_count": 6,
      "outputs": [
        {
          "output_type": "stream",
          "name": "stdout",
          "text": [
            "8\n",
            "8\n",
            "None\n"
          ]
        }
      ]
    },
    {
      "cell_type": "code",
      "source": [
        "def sum(n1,n2):\n",
        "  answer = n1 + n2\n",
        "  return answer\n",
        "\n",
        "result =sum(3,5)\n",
        "print(result)"
      ],
      "metadata": {
        "colab": {
          "base_uri": "https://localhost:8080/"
        },
        "id": "UyzGXDmoaqyq",
        "outputId": "1dd08b12-bcfd-4993-bf9c-9d3c32c63861"
      },
      "execution_count": 7,
      "outputs": [
        {
          "output_type": "stream",
          "name": "stdout",
          "text": [
            "8\n"
          ]
        }
      ]
    },
    {
      "cell_type": "markdown",
      "source": [
        "**ARGUMENTS/ SCOPES**"
      ],
      "metadata": {
        "id": "ZwflDuodbTho"
      }
    },
    {
      "cell_type": "code",
      "source": [
        ""
      ],
      "metadata": {
        "id": "IFaXCFx-bvSF"
      },
      "execution_count": null,
      "outputs": []
    }
  ]
}